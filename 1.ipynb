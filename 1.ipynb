{
 "cells": [
  {
   "cell_type": "code",
   "execution_count": null,
   "metadata": {
    "collapsed": true
   },
   "outputs": [],
   "source": [
    "from tensorflow.keras.datasets import mnist #Библиотека с базой Mnist\n",
    "from tensorflow.keras.models import Sequential # Подлючаем класс создания модели Sequential\n",
    "from tensorflow.keras.layers import Dense # Подключаем класс Dense - полносвязный слой\n",
    "from tensorflow.keras.optimizers import Adam # Подключаем оптимизатор Adam\n",
    "from tensorflow.keras import utils #Утилиты для to_categorical\n",
    "from tensorflow.keras.preprocessing import image #Для отрисовки изображения\n",
    "import numpy as np # Подключаем библиотеку numpy\n",
    "import pylab # Модуль для построения графиков\n",
    "from mpl_toolkits.mplot3d import Axes3D # Модуль для трехмерной графики\n",
    "from google.colab import files #Для загрузки своей картинки\n",
    "import matplotlib.pyplot as plt #Отрисовка изображений\n",
    "from PIL import Image #Отрисовка изображений\n",
    "#Отрисовывать изображения в ноутбуке, а не в консоль или файл\n",
    "%matplotlib inline"
   ]
  }
 ],
 "metadata": {
  "kernelspec": {
   "display_name": "Python 3",
   "language": "python",
   "name": "python3"
  },
  "language_info": {
   "codemirror_mode": {
    "name": "ipython",
    "version": 2
   },
   "file_extension": ".py",
   "mimetype": "text/x-python",
   "name": "python",
   "nbconvert_exporter": "python",
   "pygments_lexer": "ipython2",
   "version": "2.7.6"
  }
 },
 "nbformat": 4,
 "nbformat_minor": 0
}